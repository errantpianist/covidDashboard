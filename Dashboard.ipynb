{
 "cells": [
  {
   "cell_type": "markdown",
   "metadata": {},
   "source": [
    "[DIY Covid-19 Dashboard Kit](https://github.com/fsmeraldi/diy-covid19dash) (C) Fabrizio Smeraldi, 2020 ([f.smeraldi@qmul.ac.uk](mailto:f.smeraldi@qmul.ac.uk) - [web](http://www.eecs.qmul.ac.uk/~fabri/)). Instance produced by Yu Zhou Zhang. All rights reserved."
   ]
  },
  {
   "cell_type": "markdown",
   "metadata": {},
   "source": [
    "# My Covid-19 Dashboard"
   ]
  },
  {
   "cell_type": "markdown",
   "metadata": {},
   "source": [
    "This is my Covid-19 Dashboard, which displays the figures for Covid tests, cases and deaths in England over time, both with raw data and proportionally. The dashboard is displayed using [voila](https://voila.readthedocs.io/en/stable/index.html), a Python dashboarding tool that converts notebooks to standalone dashboards. "
   ]
  },
  {
   "cell_type": "code",
   "execution_count": null,
   "metadata": {},
   "outputs": [],
   "source": [
    "from IPython.display import clear_output\n",
    "import ipywidgets as wdg\n",
    "import pandas as pd\n",
    "import numpy as np\n",
    "import matplotlib.pyplot as plt\n",
    "import json\n",
    "from uk_covid19 import Cov19API"
   ]
  },
  {
   "cell_type": "code",
   "execution_count": null,
   "metadata": {},
   "outputs": [],
   "source": [
    "%matplotlib inline\n",
    "# make figures larger\n",
    "plt.rcParams['figure.dpi'] = 100"
   ]
  },
  {
   "cell_type": "code",
   "execution_count": null,
   "metadata": {},
   "outputs": [],
   "source": [
    "# Loads a JSON file to store the raw data in jsondata\n",
    "with open('testsAndCases.json', 'r') as fileinput:\n",
    "    filedata = fileinput.read()\n",
    "    jsondata=json.loads(filedata)"
   ]
  },
  {
   "cell_type": "code",
   "execution_count": null,
   "metadata": {},
   "outputs": [],
   "source": [
    "# parsing date string into datetime\n",
    "def parse_date(datestring):\n",
    "    return pd.to_datetime(datestring, format=\"%Y-%m-%d\")\n",
    "\n",
    "# 2 options for wrangling the data, raw and proportional figures\n",
    "def wrangle_data(rawdata, proportional=False):\n",
    "\n",
    "    datalist = rawdata['data']\n",
    "    \n",
    "    # building a list of all dates that have records\n",
    "    dates = [record['date'] for record in datalist]\n",
    "    dates.sort()\n",
    "    startDate = parse_date(dates[0])\n",
    "    endDate = parse_date(dates[-1])\n",
    "    # creating an index to be used in the dataframe\n",
    "    index = pd.date_range(startDate, endDate, freq='D')\n",
    "    \n",
    "    myDataFrame = pd.DataFrame(index=index, columns=['tests', 'cases', 'deaths'])\n",
    "    \n",
    "    \n",
    "    maximum_values = {}\n",
    "    # saving the maximum value of each column of interest into a dictionary\n",
    "    for dayData in datalist:\n",
    "        for k, v in dayData.items():\n",
    "            if k in ['tests', 'cases', 'deaths']:\n",
    "                \n",
    "                if v is not None:\n",
    "                    \n",
    "                    if v > maximum_values.get(k, 0):\n",
    "                        maximum_values[k] = v\n",
    "                \n",
    "                        \n",
    "    \n",
    "    \n",
    "    # iterating through datalist to populate the dataframe\n",
    "    for record in datalist:\n",
    "        date = parse_date(record['date'])\n",
    "        for column in ['tests', 'cases', 'deaths']:\n",
    "            \n",
    "            if pd.isna(myDataFrame.loc[date, column]):\n",
    "                value = float(record[column]) if record[column] != None else 0.0\n",
    "                if proportional:\n",
    "                    # divides the value by the maximum value stored in the dictionary\n",
    "                    value /= maximum_values.get(column, 1)\n",
    "                \n",
    "                myDataFrame.loc[date, column] = value\n",
    "    myDataFrame.fillna(0.0, inplace=True)\n",
    "    \n",
    "    \n",
    "    return myDataFrame\n",
    "\n",
    "# calling wrangle_data on the jsondata twice, supplying the raw and proportional dataframes:\n",
    "df=wrangle_data(jsondata)# df is the dataframe for plotting\n",
    "dfProportional=wrangle_data(jsondata, proportional=True)\n"
   ]
  },
  {
   "cell_type": "code",
   "execution_count": null,
   "metadata": {},
   "outputs": [],
   "source": [
    "# API access code\n",
    "def access_api():\n",
    "    \"\"\" Accesses the PHE API. Returns raw data in the same format as data loaded from the \"canned\" JSON file. \"\"\"\n",
    "    filters = [\n",
    "    'areaType=nation',\n",
    "    'areaName=England'\n",
    "]\n",
    "    structure = {\n",
    "    \"date\": \"date\",\n",
    "    \"tests\": \"newTestsByPublishDate\",\n",
    "    \"cases\": \"newCasesByPublishDate\",\n",
    "    \"deaths\": \"newDeaths28DaysByPublishDate\"\n",
    "}\n",
    "    api = Cov19API(filters=filters, structure=structure)\n",
    "    testsAndCases=api.get_json()\n",
    "    return testsAndCases # return data read from the API"
   ]
  },
  {
   "cell_type": "code",
   "execution_count": null,
   "metadata": {},
   "outputs": [],
   "source": [
    "\n",
    "def api_button_callback(button):\n",
    "    # Getting fresh data from the API\n",
    "    try:\n",
    "        apidata=access_api()\n",
    "        global df\n",
    "        global dfProportional\n",
    "        # wrangles the data and overwrites the 2 dataframes for plotting\n",
    "        df=wrangle_data(apidata)\n",
    "        dfProportional=wrangle_data(apidata, proportional=True)\n",
    "\n",
    "        # Giving feedback to the user by changing the appearance of the button after accessing the API\n",
    "        apibutton.icon=\"check\"\n",
    "        apibutton.disabled=True\n",
    "    \n",
    "  \n",
    "    except:\n",
    "        print('Sorry, it seems there is a problem fetching the data')\n",
    "        # Changing appearance of API button in the even of an error\n",
    "        apibutton.icon=\"unlink\"\n",
    "        apibutton.description='Unavailable'\n",
    "        \n",
    "\n",
    "# the button\n",
    "apibutton=wdg.Button(\n",
    "    description='Fetch Data',\n",
    "    disabled=False,\n",
    "    button_style='', \n",
    "    tooltip=\"Keep calm and carry on\",\n",
    "    icon='download'\n",
    ")\n",
    "\n",
    "# registering the button callback function with the button\n",
    "apibutton.on_click(api_button_callback) \n",
    "display(apibutton)\n"
   ]
  },
  {
   "cell_type": "markdown",
   "metadata": {},
   "source": [
    "# Comparing tests, cases and deaths"
   ]
  },
  {
   "cell_type": "markdown",
   "metadata": {},
   "source": [
    "Below, you can select the metrics that you want to view (Ctrl + click to select multiple) and choose whether to view raw figures or figures scaled proportionally to its maximum value.\n",
    "This proportional scaling allows you to visualise more clearly how each metric is influenced by others."
   ]
  },
  {
   "cell_type": "code",
   "execution_count": null,
   "metadata": {},
   "outputs": [],
   "source": [
    "%matplotlib inline\n",
    "\n",
    "# make figures larger\n",
    "plt.rcParams['figure.dpi'] = 100\n",
    "\n",
    "# multiple select for columns\n",
    "testsCasesDeathsColumns = wdg.SelectMultiple(\n",
    "    options = ['tests', 'cases', 'deaths'],\n",
    "    value = ['cases', 'deaths'],\n",
    "    rows = 3,\n",
    "    description = 'Parameters',\n",
    "    disabled = False)\n",
    "\n",
    "# radio button select for proportional vs raw data\n",
    "proportion=wdg.RadioButtons(\n",
    "    options=['raw', 'proportional'],\n",
    "    value='proportional',\n",
    "    layout={'width': 'max-content'},\n",
    "    description='Scale:',\n",
    "    disabled=False)\n",
    "\n",
    "# grouping into a box\n",
    "controls=wdg.HBox([testsCasesDeathsColumns, proportion])\n",
    "\n",
    "# function to update graph\n",
    "def testsCasesDeathsGraph(columns, proportion):\n",
    "    \n",
    "    numberOfColumns = len(columns)\n",
    "    if numberOfColumns > 0:\n",
    "        if proportion == 'proportional':\n",
    "            dfProportional.plot(y = list(columns))\n",
    "        else:\n",
    "            df.plot(y = list(columns))\n",
    "        plt.show()\n",
    "    else:\n",
    "        print('Click to select data for graph')\n",
    "\n",
    "output = wdg.interactive_output(testsCasesDeathsGraph, {'columns': testsCasesDeathsColumns, 'proportion': proportion})\n",
    "\n",
    "# grouping controls and graph into a box\n",
    "form=wdg.HBox([output, controls])\n",
    "\n",
    "# displaying graph\n",
    "display(form)\n"
   ]
  },
  {
   "cell_type": "markdown",
   "metadata": {},
   "source": [
    "## Acknowledgements\n",
    "\n",
    "Created under the guidance of Prof. Fabrizio Smeraldi. Thanks for the support!"
   ]
  },
  {
   "cell_type": "markdown",
   "metadata": {},
   "source": [
    "*Based on UK Government [data](https://coronavirus.data.gov.uk/) published by [Public Health England](https://www.gov.uk/government/organisations/public-health-england).*"
   ]
  }
 ],
 "metadata": {
  "kernelspec": {
   "display_name": "Python 3.9.12 ('base')",
   "language": "python",
   "name": "python3"
  },
  "language_info": {
   "codemirror_mode": {
    "name": "ipython",
    "version": 3
   },
   "file_extension": ".py",
   "mimetype": "text/x-python",
   "name": "python",
   "nbconvert_exporter": "python",
   "pygments_lexer": "ipython3",
   "version": "3.9.12"
  },
  "vscode": {
   "interpreter": {
    "hash": "245c60c7cce9c89afb495f11a9837008922fd99b63eb12219068522a34636e82"
   }
  }
 },
 "nbformat": 4,
 "nbformat_minor": 4
}
