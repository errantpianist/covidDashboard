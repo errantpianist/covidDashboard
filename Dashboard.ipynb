{
 "cells": [
  {
   "cell_type": "markdown",
   "metadata": {},
   "source": [
    "[DIY Covid-19 Dashboard Kit](https://github.com/fsmeraldi/diy-covid19dash) (C) Fabrizio Smeraldi, 2020 ([f.smeraldi@qmul.ac.uk](mailto:f.smeraldi@qmul.ac.uk) - [web](http://www.eecs.qmul.ac.uk/~fabri/)). Instance produced by Yu Zhou Zhang. All rights reserved."
   ]
  },
  {
   "cell_type": "markdown",
   "metadata": {},
   "source": [
    "# My Covid-19 Dashboard"
   ]
  },
  {
   "cell_type": "markdown",
   "metadata": {},
   "source": [
    "This is my Covid-19 Dashboard, which displays the figures for Covid tests, cases and deaths in England over time, both with raw data and proportionally. The dashboard is displayed using [voila](https://voila.readthedocs.io/en/stable/index.html), a Python dashboarding tool that converts notebooks to standalone dashboards. "
   ]
  },
  {
   "cell_type": "code",
   "execution_count": null,
   "metadata": {},
   "outputs": [],
   "source": [
    "from IPython.display import clear_output\n",
    "from time import sleep\n",
    "import ipywidgets as wdg\n",
    "import pandas as pd\n",
    "import numpy as np\n",
    "import matplotlib.pyplot as plt\n",
    "import json\n",
    "from uk_covid19 import Cov19API"
   ]
  },
  {
   "cell_type": "code",
   "execution_count": null,
   "metadata": {},
   "outputs": [],
   "source": [
    "%matplotlib inline\n",
    "# make figures larger\n",
    "plt.rcParams['figure.dpi'] = 100"
   ]
  },
  {
   "cell_type": "code",
   "execution_count": null,
   "metadata": {},
   "outputs": [],
   "source": [
    "# Load JSON files and store the raw data in some variable. Edit as appropriate\n",
    "with open('testsAndCases.json', 'r') as fileinput:\n",
    "    filedata = fileinput.read()\n",
    "    jsondata=json.loads(filedata)"
   ]
  },
  {
   "cell_type": "code",
   "execution_count": null,
   "metadata": {},
   "outputs": [],
   "source": [
    "def parse_date(datestring):\n",
    "    return pd.to_datetime(datestring, format=\"%Y-%m-%d\")\n",
    "\n",
    "def wrangle_data(rawdata, proportional=False):\n",
    "    \"\"\" Parameters: rawdata - data from json file or API call. Returns a dataframe.\n",
    "    Edit to include the code that wrangles the data, creates the dataframe and fills it in. \"\"\"\n",
    "    datalist = rawdata['data']\n",
    "    \n",
    "    dates = [record['date'] for record in datalist]\n",
    "    dates.sort()\n",
    "    startDate = parse_date(dates[0])\n",
    "    endDate = parse_date(dates[-1])\n",
    "    index = pd.date_range(startDate, endDate, freq='D')\n",
    "    \n",
    "    myDataFrame = pd.DataFrame(index=index, columns=['tests', 'cases', 'deaths'])\n",
    "    \n",
    "    \n",
    "    maximum_values = {}\n",
    "    # saving the maximum values of columns\n",
    "    for dayData in datalist:\n",
    "        for k, v in dayData.items():\n",
    "            if k in ['tests', 'cases', 'deaths']:\n",
    "                \n",
    "                if v is not None:\n",
    "                    \n",
    "                    if v > maximum_values.get(k, 0):\n",
    "                        maximum_values[k] = v\n",
    "                        \n",
    "    \n",
    "    \n",
    "    \n",
    "    for record in datalist:\n",
    "        date = parse_date(record['date'])\n",
    "        for column in ['tests', 'cases', 'deaths']:\n",
    "            \n",
    "            if pd.isna(myDataFrame.loc[date, column]):\n",
    "                value = float(record[column]) if record[column] != None else 0.0\n",
    "                if proportional:\n",
    "                    value /= maximum_values.get(column, 1)\n",
    "                \n",
    "                myDataFrame.loc[date, column] = value\n",
    "    myDataFrame.fillna(0.0, inplace=True)\n",
    "    \n",
    "    \n",
    "    return myDataFrame\n",
    "\n",
    "# putting the wrangling code into a function allows you to call it again after refreshing the data through \n",
    "# the API. You should call the function directly on the JSON data when the dashboard starts, by including \n",
    "# the call in the cell as below:\n",
    "df=wrangle_data(jsondata)# df is the dataframe for plotting\n",
    "dfProportional=wrangle_data(jsondata, proportional=True)\n"
   ]
  },
  {
   "cell_type": "code",
   "execution_count": null,
   "metadata": {},
   "outputs": [],
   "source": [
    "# Place your API access code in this function. Do not call this function directly; it will be called by \n",
    "# the button callback. \n",
    "def access_api():\n",
    "    \"\"\" Accesses the PHE API. Returns raw data in the same format as data loaded from the \"canned\" JSON file. \"\"\"\n",
    "    filters = [\n",
    "    'areaType=nation',\n",
    "    'areaName=England'\n",
    "]\n",
    "    structure = {\n",
    "    \"date\": \"date\",\n",
    "    \"tests\": \"newTestsByPublishDate\",\n",
    "    \"cases\": \"newCasesByPublishDate\",\n",
    "    \"deaths\": \"newDeaths28DaysByPublishDate\"\n",
    "}\n",
    "    api = Cov19API(filters=filters, structure=structure)\n",
    "    testsAndCases=api.get_json()\n",
    "    return testsAndCases # return data read from the API"
   ]
  },
  {
   "cell_type": "code",
   "execution_count": null,
   "metadata": {},
   "outputs": [],
   "source": [
    "# Printout from this function will be lost in Voila unless captured in an\n",
    "# output widget - therefore, we give feedback to the user by changing the \n",
    "# appearance of the button\n",
    "def api_button_callback(button):\n",
    "    \"\"\" Button callback - it must take the button as its parameter (unused in this case).\n",
    "    Accesses API, wrangles data, updates global variable df used for plotting. \"\"\"\n",
    "    # Get fresh data from the API. If you have time, include some error handling\n",
    "    # around this call.\n",
    "    try:\n",
    "        apidata=access_api()\n",
    "        global df\n",
    "        global dfProportional\n",
    "        df=wrangle_data(apidata)\n",
    "        dfProportional=wrangle_data(apidata, proportional=True)\n",
    "        apibutton.icon=\"check\"\n",
    "        apibutton.disabled=True\n",
    "    \n",
    "    # wrangle the data and overwrite the dataframe for plotting\n",
    "    \n",
    "    # the graph won't refresh until the user interacts with the widget.\n",
    "    # this function simulates the interaction, see Graph and Analysis below.\n",
    "    # you can omit this step in the first instance\n",
    "    #refresh_graph()\n",
    "    # after all is done, you can switch the icon on the button to a \"check\" sign\n",
    "    # and optionally disable the button - it won't be needed again. You can use icons\n",
    "    # \"unlink\" or \"times\" and change the button text to \"Unavailable\" in case the \n",
    "    # api call fails.\n",
    "    except:\n",
    "        print('Sorry, it seems there is a problem fetching the data')\n",
    "        apibutton.icon=\"unlink\"\n",
    "        apibutton.description='Unavailable'\n",
    "        \n",
    "\n",
    "    \n",
    "apibutton=wdg.Button(\n",
    "    description='Fetch Data', # you may want to change this...\n",
    "    disabled=False,\n",
    "    button_style='', # 'success', 'info', 'warning', 'danger' or ''\n",
    "    tooltip=\"Keep calm and carry on\",\n",
    "    # FontAwesome names without the `fa-` prefix - try \"download\"\n",
    "    icon='download'\n",
    ")\n",
    "\n",
    "# remember to register your button callback function with the button\n",
    "apibutton.on_click(api_button_callback) # the name of your function inside these brackets\n",
    "display(apibutton)\n",
    "\n",
    "# run all cells before clicking on this button"
   ]
  },
  {
   "cell_type": "markdown",
   "metadata": {},
   "source": [
    "# Comparing tests, cases and deaths"
   ]
  },
  {
   "cell_type": "markdown",
   "metadata": {},
   "source": [
    "Below, you can select the metrics that you want to view (Ctrl + click to select multiple) and choose whether to view raw figures or figures scaled proportionally to its maximum value.\n",
    "This proportional scaling allows you to visualise more clearly how each metric is influenced by others."
   ]
  },
  {
   "cell_type": "code",
   "execution_count": null,
   "metadata": {},
   "outputs": [],
   "source": [
    "%matplotlib inline\n",
    "# make figures larger\n",
    "plt.rcParams['figure.dpi'] = 100\n",
    "\n",
    "testsCasesDeathsColumns = wdg.SelectMultiple(\n",
    "    options = ['tests', 'cases', 'deaths'],\n",
    "    value = ['cases', 'deaths'],\n",
    "    rows = 3,\n",
    "    description = 'Parameters',\n",
    "    disabled = False)\n",
    "\n",
    "proportion=wdg.RadioButtons(\n",
    "    options=['raw', 'proportional'],\n",
    "    value='proportional',\n",
    "    layout={'width': 'max-content'},\n",
    "    description='Scale:',\n",
    "    disabled=False)\n",
    "    \n",
    "controls=wdg.HBox([testsCasesDeathsColumns, proportion])\n",
    "\n",
    "def testsCasesDeathsGraph(columns, proportion):\n",
    "    \n",
    "    numberOfColumns = len(columns)\n",
    "    if numberOfColumns > 0:\n",
    "        if proportion == 'proportional':\n",
    "            dfProportional.plot(y = list(columns))\n",
    "        else:\n",
    "            df.plot(y = list(columns))\n",
    "        plt.show()\n",
    "    else:\n",
    "        print('Click to select data for graph')\n",
    "output = wdg.interactive_output(testsCasesDeathsGraph, {'columns': testsCasesDeathsColumns, 'proportion': proportion})\n",
    "\n",
    "form=wdg.HBox([output, controls])\n",
    "display(form)\n"
   ]
  },
  {
   "cell_type": "markdown",
   "metadata": {},
   "source": [
    "## Acknowledgements\n",
    "\n",
    "Created under the guidance of Prof. Fabrizio Smeraldi. Thanks for the support!"
   ]
  },
  {
   "cell_type": "markdown",
   "metadata": {},
   "source": [
    "*Based on UK Government [data](https://coronavirus.data.gov.uk/) published by [Public Health England](https://www.gov.uk/government/organisations/public-health-england).*"
   ]
  }
 ],
 "metadata": {
  "kernelspec": {
   "display_name": "Python 3.9.12 ('base')",
   "language": "python",
   "name": "python3"
  },
  "language_info": {
   "codemirror_mode": {
    "name": "ipython",
    "version": 3
   },
   "file_extension": ".py",
   "mimetype": "text/x-python",
   "name": "python",
   "nbconvert_exporter": "python",
   "pygments_lexer": "ipython3",
   "version": "3.9.12"
  },
  "vscode": {
   "interpreter": {
    "hash": "245c60c7cce9c89afb495f11a9837008922fd99b63eb12219068522a34636e82"
   }
  }
 },
 "nbformat": 4,
 "nbformat_minor": 4
}
